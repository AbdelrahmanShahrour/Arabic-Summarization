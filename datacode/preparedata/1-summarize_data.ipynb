{
 "cells": [
  {
   "cell_type": "code",
   "execution_count": 1,
   "id": "8a0a5204",
   "metadata": {},
   "outputs": [],
   "source": [
    "import pandas as pd\n",
    "from nltksummarize import *\n",
    "from processing import *"
   ]
  },
  {
   "cell_type": "markdown",
   "id": "87d8bb30",
   "metadata": {},
   "source": [
    "# import dataset"
   ]
  },
  {
   "cell_type": "code",
   "execution_count": 2,
   "id": "3a53b750",
   "metadata": {},
   "outputs": [],
   "source": [
    "data = pd.read_csv(\"arabic_categorization_data.csv\")"
   ]
  },
  {
   "cell_type": "code",
   "execution_count": 3,
   "id": "38689323",
   "metadata": {},
   "outputs": [
    {
     "data": {
      "text/html": [
       "<div>\n",
       "<style scoped>\n",
       "    .dataframe tbody tr th:only-of-type {\n",
       "        vertical-align: middle;\n",
       "    }\n",
       "\n",
       "    .dataframe tbody tr th {\n",
       "        vertical-align: top;\n",
       "    }\n",
       "\n",
       "    .dataframe thead th {\n",
       "        text-align: right;\n",
       "    }\n",
       "</style>\n",
       "<table border=\"1\" class=\"dataframe\">\n",
       "  <thead>\n",
       "    <tr style=\"text-align: right;\">\n",
       "      <th></th>\n",
       "      <th>Unnamed: 0</th>\n",
       "      <th>text</th>\n",
       "      <th>type</th>\n",
       "    </tr>\n",
       "  </thead>\n",
       "  <tbody>\n",
       "    <tr>\n",
       "      <th>9684</th>\n",
       "      <td>4137</td>\n",
       "      <td>\\nأكد مدير وحدة الطب الاستعجالي الدكتور نوفل ا...</td>\n",
       "      <td>localnews</td>\n",
       "    </tr>\n",
       "    <tr>\n",
       "      <th>9603</th>\n",
       "      <td>4056</td>\n",
       "      <td>\\nهدّدت النقابة العامة للتعليم الثانوي بحجب ال...</td>\n",
       "      <td>localnews</td>\n",
       "    </tr>\n",
       "    <tr>\n",
       "      <th>6693</th>\n",
       "      <td>1146</td>\n",
       "      <td>\\nقال غازي الشواشي مساعد رئيس مجلس نواب الشعب ...</td>\n",
       "      <td>localnews</td>\n",
       "    </tr>\n",
       "  </tbody>\n",
       "</table>\n",
       "</div>"
      ],
      "text/plain": [
       "      Unnamed: 0                                               text       type\n",
       "9684        4137  \\nأكد مدير وحدة الطب الاستعجالي الدكتور نوفل ا...  localnews\n",
       "9603        4056  \\nهدّدت النقابة العامة للتعليم الثانوي بحجب ال...  localnews\n",
       "6693        1146  \\nقال غازي الشواشي مساعد رئيس مجلس نواب الشعب ...  localnews"
      ]
     },
     "execution_count": 3,
     "metadata": {},
     "output_type": "execute_result"
    }
   ],
   "source": [
    "data.sample(3)"
   ]
  },
  {
   "cell_type": "markdown",
   "id": "b8a296ee",
   "metadata": {},
   "source": [
    "# apply text_prepare()"
   ]
  },
  {
   "cell_type": "code",
   "execution_count": 4,
   "id": "476459cc",
   "metadata": {},
   "outputs": [],
   "source": [
    "data['Processed Text'] = data['text'].apply(text_prepare, args=(True,))"
   ]
  },
  {
   "cell_type": "code",
   "execution_count": 5,
   "id": "d4974067",
   "metadata": {},
   "outputs": [
    {
     "data": {
      "text/html": [
       "<div>\n",
       "<style scoped>\n",
       "    .dataframe tbody tr th:only-of-type {\n",
       "        vertical-align: middle;\n",
       "    }\n",
       "\n",
       "    .dataframe tbody tr th {\n",
       "        vertical-align: top;\n",
       "    }\n",
       "\n",
       "    .dataframe thead th {\n",
       "        text-align: right;\n",
       "    }\n",
       "</style>\n",
       "<table border=\"1\" class=\"dataframe\">\n",
       "  <thead>\n",
       "    <tr style=\"text-align: right;\">\n",
       "      <th></th>\n",
       "      <th>Unnamed: 0</th>\n",
       "      <th>text</th>\n",
       "      <th>type</th>\n",
       "      <th>Processed Text</th>\n",
       "    </tr>\n",
       "  </thead>\n",
       "  <tbody>\n",
       "    <tr>\n",
       "      <th>6852</th>\n",
       "      <td>1305</td>\n",
       "      <td>\\nتعرض مبيت المعهد الثانوي بعين دراهم للسرقة، ...</td>\n",
       "      <td>localnews</td>\n",
       "      <td>تعرض مبيت المعهد الثانوي بعين دراهم للسرقه ايو...</td>\n",
       "    </tr>\n",
       "    <tr>\n",
       "      <th>52</th>\n",
       "      <td>52</td>\n",
       "      <td>\\nأعلنت وزارة الشؤون الثقافية في بلاغ على صفحت...</td>\n",
       "      <td>culture</td>\n",
       "      <td>اعلنت وزاره الشؤون الثقافيه بلاغ صفحتها الرسمي...</td>\n",
       "    </tr>\n",
       "    <tr>\n",
       "      <th>4867</th>\n",
       "      <td>404</td>\n",
       "      <td>\\nتمكنت الوحدة المختصة في البحث في جرائم الإره...</td>\n",
       "      <td>society</td>\n",
       "      <td>تمكنت الوحده المختصه البحث جرائم الارهابيه الت...</td>\n",
       "    </tr>\n",
       "  </tbody>\n",
       "</table>\n",
       "</div>"
      ],
      "text/plain": [
       "      Unnamed: 0                                               text  \\\n",
       "6852        1305  \\nتعرض مبيت المعهد الثانوي بعين دراهم للسرقة، ...   \n",
       "52            52  \\nأعلنت وزارة الشؤون الثقافية في بلاغ على صفحت...   \n",
       "4867         404  \\nتمكنت الوحدة المختصة في البحث في جرائم الإره...   \n",
       "\n",
       "           type                                     Processed Text  \n",
       "6852  localnews  تعرض مبيت المعهد الثانوي بعين دراهم للسرقه ايو...  \n",
       "52      culture  اعلنت وزاره الشؤون الثقافيه بلاغ صفحتها الرسمي...  \n",
       "4867    society  تمكنت الوحده المختصه البحث جرائم الارهابيه الت...  "
      ]
     },
     "execution_count": 5,
     "metadata": {},
     "output_type": "execute_result"
    }
   ],
   "source": [
    "data.sample(3)"
   ]
  },
  {
   "cell_type": "markdown",
   "id": "38dcc3a5",
   "metadata": {},
   "source": [
    "# apply nltk_summarizer()"
   ]
  },
  {
   "cell_type": "code",
   "execution_count": 15,
   "id": "fb57b568",
   "metadata": {},
   "outputs": [],
   "source": [
    "data['summarizer'] = data['text'].apply(nltk_summarizer)"
   ]
  },
  {
   "cell_type": "code",
   "execution_count": 17,
   "id": "5ded4735",
   "metadata": {},
   "outputs": [
    {
     "data": {
      "text/html": [
       "<div>\n",
       "<style scoped>\n",
       "    .dataframe tbody tr th:only-of-type {\n",
       "        vertical-align: middle;\n",
       "    }\n",
       "\n",
       "    .dataframe tbody tr th {\n",
       "        vertical-align: top;\n",
       "    }\n",
       "\n",
       "    .dataframe thead th {\n",
       "        text-align: right;\n",
       "    }\n",
       "</style>\n",
       "<table border=\"1\" class=\"dataframe\">\n",
       "  <thead>\n",
       "    <tr style=\"text-align: right;\">\n",
       "      <th></th>\n",
       "      <th>text</th>\n",
       "      <th>type</th>\n",
       "      <th>Processed Text</th>\n",
       "      <th>summarizer</th>\n",
       "    </tr>\n",
       "  </thead>\n",
       "  <tbody>\n",
       "    <tr>\n",
       "      <th>0</th>\n",
       "      <td>\\nأشرف رئيس الجمهورية الباجي قايد السبسي اليوم...</td>\n",
       "      <td>culture</td>\n",
       "      <td>اشرف رئيس الجمهوريه الباجي قايد السبسي اليوم ب...</td>\n",
       "      <td>\\nأشرف رئيس الجمهورية الباجي قايد السبسي اليوم...</td>\n",
       "    </tr>\n",
       "    <tr>\n",
       "      <th>1</th>\n",
       "      <td>\\nتحصل كتاب \"المصحف وقراءاته\" الذي ألفه باحثون...</td>\n",
       "      <td>culture</td>\n",
       "      <td>تحصل كتاب المصحف وقراءاته الفه باحثون تونسيون ...</td>\n",
       "      <td>\\nتحصل كتاب \"المصحف وقراءاته\" الذي ألفه باحثون...</td>\n",
       "    </tr>\n",
       "    <tr>\n",
       "      <th>2</th>\n",
       "      <td>\\nاستنكرت إدارة المسرح الوطني التونسي الحملة ا...</td>\n",
       "      <td>culture</td>\n",
       "      <td>استنكرت اداره المسرح الوطني التونسي الحمله شنه...</td>\n",
       "      <td></td>\n",
       "    </tr>\n",
       "    <tr>\n",
       "      <th>3</th>\n",
       "      <td>\\nاحتضن جناح تونس في القرية الدولية للأفلام بم...</td>\n",
       "      <td>culture</td>\n",
       "      <td>احتضن جناح تونس القريه الدوليه للافلام بمدينه ...</td>\n",
       "      <td>تونس حاضرة من جهة أخرى ستكون تونس حاضرة في قائ...</td>\n",
       "    </tr>\n",
       "    <tr>\n",
       "      <th>4</th>\n",
       "      <td>\\nشهدت برلين أمس الجمعة افتتاح مسجد فريد من نو...</td>\n",
       "      <td>culture</td>\n",
       "      <td>شهدت برلين الجمعه افتتاح مسجد فريد نوعه الاقل ...</td>\n",
       "      <td>واستأجرت صاحبة المشروع المحامية والكاتبة سيران...</td>\n",
       "    </tr>\n",
       "    <tr>\n",
       "      <th>...</th>\n",
       "      <td>...</td>\n",
       "      <td>...</td>\n",
       "      <td>...</td>\n",
       "      <td>...</td>\n",
       "    </tr>\n",
       "    <tr>\n",
       "      <th>10361</th>\n",
       "      <td>\\nأكد المكلف بالإعلام والاتصال بالإدارة العامة...</td>\n",
       "      <td>localnews</td>\n",
       "      <td>اكد المكلف بالاعلام والاتصال بالاداره العامه ل...</td>\n",
       "      <td></td>\n",
       "    </tr>\n",
       "    <tr>\n",
       "      <th>10362</th>\n",
       "      <td>\\nتمكّنت فرقة الأبحاث والتفتيش للحرس الوطني بط...</td>\n",
       "      <td>localnews</td>\n",
       "      <td>فرقه الابحاث والتفتيش للحرس الوطني بطبلبه ولاي...</td>\n",
       "      <td>كما تمّ إلقاء القبض على عنصر رابع (عمره 32 سنة...</td>\n",
       "    </tr>\n",
       "    <tr>\n",
       "      <th>10363</th>\n",
       "      <td>\\nقرر الأهالي بمناطق هيشر وعين القارصي والغولا...</td>\n",
       "      <td>localnews</td>\n",
       "      <td>قرر الاهالي بمناطق هيشر وعين القارصي والغولايث...</td>\n",
       "      <td>وتأتي هذه الخطوة على خلفية ما اعتبره أهالي هذه...</td>\n",
       "    </tr>\n",
       "    <tr>\n",
       "      <th>10364</th>\n",
       "      <td>\\nتمكنت وحدات الحرس الوطني بمحطة الإستخلاص ببر...</td>\n",
       "      <td>localnews</td>\n",
       "      <td>تمكنت وحدات الحرس الوطني بمحطه الاستخلاص ببرج ...</td>\n",
       "      <td>\\nتمكنت وحدات الحرس الوطني بمحطة الإستخلاص ببر...</td>\n",
       "    </tr>\n",
       "    <tr>\n",
       "      <th>10365</th>\n",
       "      <td>\\nأصيب مساء اليوم الأربعاء، عسكري بطلق ناري عل...</td>\n",
       "      <td>localnews</td>\n",
       "      <td>اصيب اليوم الاربعاء عسكري بطلق ناري وجه الخطاء...</td>\n",
       "      <td></td>\n",
       "    </tr>\n",
       "  </tbody>\n",
       "</table>\n",
       "<p>10366 rows × 4 columns</p>\n",
       "</div>"
      ],
      "text/plain": [
       "                                                    text       type  \\\n",
       "0      \\nأشرف رئيس الجمهورية الباجي قايد السبسي اليوم...    culture   \n",
       "1      \\nتحصل كتاب \"المصحف وقراءاته\" الذي ألفه باحثون...    culture   \n",
       "2      \\nاستنكرت إدارة المسرح الوطني التونسي الحملة ا...    culture   \n",
       "3      \\nاحتضن جناح تونس في القرية الدولية للأفلام بم...    culture   \n",
       "4      \\nشهدت برلين أمس الجمعة افتتاح مسجد فريد من نو...    culture   \n",
       "...                                                  ...        ...   \n",
       "10361  \\nأكد المكلف بالإعلام والاتصال بالإدارة العامة...  localnews   \n",
       "10362  \\nتمكّنت فرقة الأبحاث والتفتيش للحرس الوطني بط...  localnews   \n",
       "10363  \\nقرر الأهالي بمناطق هيشر وعين القارصي والغولا...  localnews   \n",
       "10364  \\nتمكنت وحدات الحرس الوطني بمحطة الإستخلاص ببر...  localnews   \n",
       "10365  \\nأصيب مساء اليوم الأربعاء، عسكري بطلق ناري عل...  localnews   \n",
       "\n",
       "                                          Processed Text  \\\n",
       "0      اشرف رئيس الجمهوريه الباجي قايد السبسي اليوم ب...   \n",
       "1      تحصل كتاب المصحف وقراءاته الفه باحثون تونسيون ...   \n",
       "2      استنكرت اداره المسرح الوطني التونسي الحمله شنه...   \n",
       "3      احتضن جناح تونس القريه الدوليه للافلام بمدينه ...   \n",
       "4      شهدت برلين الجمعه افتتاح مسجد فريد نوعه الاقل ...   \n",
       "...                                                  ...   \n",
       "10361  اكد المكلف بالاعلام والاتصال بالاداره العامه ل...   \n",
       "10362  فرقه الابحاث والتفتيش للحرس الوطني بطبلبه ولاي...   \n",
       "10363  قرر الاهالي بمناطق هيشر وعين القارصي والغولايث...   \n",
       "10364  تمكنت وحدات الحرس الوطني بمحطه الاستخلاص ببرج ...   \n",
       "10365  اصيب اليوم الاربعاء عسكري بطلق ناري وجه الخطاء...   \n",
       "\n",
       "                                              summarizer  \n",
       "0      \\nأشرف رئيس الجمهورية الباجي قايد السبسي اليوم...  \n",
       "1      \\nتحصل كتاب \"المصحف وقراءاته\" الذي ألفه باحثون...  \n",
       "2                                                         \n",
       "3      تونس حاضرة من جهة أخرى ستكون تونس حاضرة في قائ...  \n",
       "4      واستأجرت صاحبة المشروع المحامية والكاتبة سيران...  \n",
       "...                                                  ...  \n",
       "10361                                                     \n",
       "10362  كما تمّ إلقاء القبض على عنصر رابع (عمره 32 سنة...  \n",
       "10363  وتأتي هذه الخطوة على خلفية ما اعتبره أهالي هذه...  \n",
       "10364  \\nتمكنت وحدات الحرس الوطني بمحطة الإستخلاص ببر...  \n",
       "10365                                                     \n",
       "\n",
       "[10366 rows x 4 columns]"
      ]
     },
     "execution_count": 17,
     "metadata": {},
     "output_type": "execute_result"
    }
   ],
   "source": [
    "del data['Unnamed: 0']\n",
    "data"
   ]
  },
  {
   "cell_type": "code",
   "execution_count": 18,
   "id": "4329b3f0",
   "metadata": {},
   "outputs": [],
   "source": [
    "data.to_csv('1-summarizdataset.csv',index = False)"
   ]
  }
 ],
 "metadata": {
  "kernelspec": {
   "display_name": "Python 3 (ipykernel)",
   "language": "python",
   "name": "python3"
  },
  "language_info": {
   "codemirror_mode": {
    "name": "ipython",
    "version": 3
   },
   "file_extension": ".py",
   "mimetype": "text/x-python",
   "name": "python",
   "nbconvert_exporter": "python",
   "pygments_lexer": "ipython3",
   "version": "3.10.6"
  }
 },
 "nbformat": 4,
 "nbformat_minor": 5
}
